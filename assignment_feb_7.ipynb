{
 "cells": [
  {
   "cell_type": "markdown",
   "id": "d4dfeb37",
   "metadata": {},
   "source": [
    "Q1. You are writing code for a company. The requirement of the company is that you create a python\n",
    "function that will check whether the password entered by the user is correct or not. The function should\n",
    "take the password as input and return the string “Valid Password” if the entered password follows the\n",
    "below-given password guidelines else it should return “Invalid Password”.\n",
    "Note: 1. The Password should contain at least two uppercase letters and at least two lowercase letters.\n",
    "2-The Password should contain at least a number and three special characters.\n",
    "3- The length of the password should be 10 characters long."
   ]
  },
  {
   "cell_type": "code",
   "execution_count": 59,
   "id": "5caf1820",
   "metadata": {},
   "outputs": [],
   "source": [
    "def check(pas):\n",
    "    special=\"!@#$%^&*+_-='.,/?:;{]\"\n",
    "    lower=0\n",
    "    upper=0\n",
    "    speci=0\n",
    "    for i in pas:\n",
    "        if i.islower()==True:\n",
    "            lower=lower+1\n",
    "        elif i.isupper()==True:\n",
    "            upper=upper+1\n",
    "        elif i in spcial:\n",
    "            speci=speci+1\n",
    "    if upper>=2 and lower>=2 and speci>=3 and len(pas)>=10:\n",
    "        return (\"Valid Password\")\n",
    "    else:\n",
    "        return (\"Invalid Password\")\n",
    "\n",
    "\n"
   ]
  },
  {
   "cell_type": "code",
   "execution_count": 62,
   "id": "f813ccf6",
   "metadata": {},
   "outputs": [
    {
     "data": {
      "text/plain": [
       "'Valid Password'"
      ]
     },
     "execution_count": 62,
     "metadata": {},
     "output_type": "execute_result"
    }
   ],
   "source": [
    "check(\"Swajdhin203***\")#invalid\n",
    "check(\"SwaDhin189*&^\")#valid"
   ]
  },
  {
   "cell_type": "markdown",
   "id": "9974315b",
   "metadata": {},
   "source": [
    "Q2. Solve the below-given questions using at least one of the following:\n",
    "1. Lambda functioJ\n",
    "2. Filter functioJ\n",
    "3. Zap functioJ\n",
    "4. List ComprehensioI\n",
    "B Check if the string starts with a particular letterY\n",
    "B Check if the string is numericY\n",
    "B Sort a list of tuples having fruit names and their quantity. [(\"mango\",99),(\"orange\",80), (\"grapes\", 1000)-\n",
    "B Find the squares of numbers from 1 to 10Y\n",
    "B Find the cube root of numbers from 1 to 10Y\n",
    "B Check if a given number is evenY\n",
    "B Filter odd numbers from the given list.\n",
    "[1,2,3,4,5,6,7,8,9,10-\n",
    "B Sort a list of integers into positive and negative integers lists.\n",
    "[1,2,3,4,5,6,-1,-2,-3,-4,-5,0]\n"
   ]
  },
  {
   "cell_type": "code",
   "execution_count": 118,
   "id": "394a1ba1",
   "metadata": {},
   "outputs": [
    {
     "name": "stdout",
     "output_type": "stream",
     "text": [
      "[1, 4, 9, 16, 25, 36, 49, 64, 81, 100]\n"
     ]
    },
    {
     "data": {
      "text/plain": [
       "\"No, it's not 7\""
      ]
     },
     "execution_count": 118,
     "metadata": {},
     "output_type": "execute_result"
    }
   ],
   "source": [
    "# Ans\n",
    "# Check if the string starts with a particular letter\n",
    "text=lambda x:x.startswith(\"S\")\n",
    "text(\"Swadhin\")"
   ]
  },
  {
   "cell_type": "code",
   "execution_count": null,
   "id": "d4b4e8f0",
   "metadata": {},
   "outputs": [],
   "source": [
    "# List Comprehensio\n",
    "# Find the squares of numbers from 1 to 10\n",
    "lst=[i**2 for i in range(1,11)]\n",
    "print(lst)"
   ]
  },
  {
   "cell_type": "code",
   "execution_count": null,
   "id": "47848c36",
   "metadata": {},
   "outputs": [],
   "source": [
    "# Map Function\n",
    "# Find the cube root of numbers from 1 to 10\n",
    "list(map(lambda x: x**3,range(1,11)))"
   ]
  },
  {
   "cell_type": "code",
   "execution_count": null,
   "id": "3888d3bc",
   "metadata": {},
   "outputs": [],
   "source": [
    "# Check if a given number is seven\n",
    "k=lambda x:\"Yes the number is 7\" if x==7 else \"No, it's not 7\"\n",
    "k(9)"
   ]
  },
  {
   "cell_type": "code",
   "execution_count": 121,
   "id": "6ddfd9c1",
   "metadata": {},
   "outputs": [
    {
     "data": {
      "text/plain": [
       "[1, 3, 5, 7, 9]"
      ]
     },
     "execution_count": 121,
     "metadata": {},
     "output_type": "execute_result"
    }
   ],
   "source": [
    "# Filter odd numbers from the given list.\n",
    "lst= [1,2,3,4,5,6,7,8,9,10]\n",
    "list(filter(lambda x:x%2!=0,lst)) "
   ]
  },
  {
   "cell_type": "code",
   "execution_count": null,
   "id": "c013d0ed",
   "metadata": {},
   "outputs": [],
   "source": []
  },
  {
   "cell_type": "code",
   "execution_count": null,
   "id": "4f8a3bf4",
   "metadata": {},
   "outputs": [],
   "source": []
  },
  {
   "cell_type": "code",
   "execution_count": null,
   "id": "ae1f827f",
   "metadata": {},
   "outputs": [],
   "source": []
  },
  {
   "cell_type": "code",
   "execution_count": null,
   "id": "6440e6af",
   "metadata": {},
   "outputs": [],
   "source": []
  },
  {
   "cell_type": "code",
   "execution_count": null,
   "id": "d3f975fd",
   "metadata": {},
   "outputs": [],
   "source": []
  },
  {
   "cell_type": "code",
   "execution_count": null,
   "id": "6c7d88a5",
   "metadata": {},
   "outputs": [],
   "source": []
  },
  {
   "cell_type": "code",
   "execution_count": null,
   "id": "4e583399",
   "metadata": {},
   "outputs": [],
   "source": []
  },
  {
   "cell_type": "code",
   "execution_count": null,
   "id": "6ea2e308",
   "metadata": {},
   "outputs": [],
   "source": []
  }
 ],
 "metadata": {
  "kernelspec": {
   "display_name": "Python 3 (ipykernel)",
   "language": "python",
   "name": "python3"
  },
  "language_info": {
   "codemirror_mode": {
    "name": "ipython",
    "version": 3
   },
   "file_extension": ".py",
   "mimetype": "text/x-python",
   "name": "python",
   "nbconvert_exporter": "python",
   "pygments_lexer": "ipython3",
   "version": "3.10.5"
  }
 },
 "nbformat": 4,
 "nbformat_minor": 5
}
